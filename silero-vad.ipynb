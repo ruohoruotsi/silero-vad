{
 "cells": [
  {
   "cell_type": "markdown",
   "metadata": {
    "id": "sVNOuHQQjsrp"
   },
   "source": [
    "# PyTorch Examples"
   ]
  },
  {
   "cell_type": "markdown",
   "metadata": {
    "id": "FpMplOCA2Fwp"
   },
   "source": [
    "## VAD"
   ]
  },
  {
   "cell_type": "markdown",
   "metadata": {
    "heading_collapsed": true,
    "id": "62A6F_072Fwq"
   },
   "source": [
    "### Install Dependencies"
   ]
  },
  {
   "cell_type": "code",
   "execution_count": null,
   "metadata": {
    "hidden": true,
    "id": "5w5AkskZ2Fwr"
   },
   "outputs": [],
   "source": [
    "#@title Install and Import Dependencies\n",
    "\n",
    "# this assumes that you have a relevant version of PyTorch installed\n",
    "!pip install -q torchaudio soundfile\n",
    "\n",
    "import glob\n",
    "import torch\n",
    "torch.set_num_threads(1)\n",
    "\n",
    "from IPython.display import Audio\n",
    "from pprint import pprint\n",
    "\n",
    "model, utils = torch.hub.load(repo_or_dir='snakers4/silero-vad',\n",
    "                              model='silero_vad',\n",
    "                              force_reload=True)\n",
    "\n",
    "(get_speech_ts,\n",
    " get_speech_ts_adaptive,\n",
    " save_audio,\n",
    " read_audio,\n",
    " state_generator,\n",
    " single_audio_stream,\n",
    " collect_chunks) = utils\n",
    "\n",
    "files_dir = torch.hub.get_dir() + '/snakers4_silero-vad_master/files'"
   ]
  },
  {
   "cell_type": "markdown",
   "metadata": {
    "id": "fXbbaUO3jsrw"
   },
   "source": [
    "### Full Audio"
   ]
  },
  {
   "cell_type": "markdown",
   "metadata": {
    "id": "dY2Us3_Q2Fws"
   },
   "source": [
    "**Classic way of getting speech chunks, you may need to select the thresholds yourself**"
   ]
  },
  {
   "cell_type": "code",
   "execution_count": null,
   "metadata": {
    "id": "aI_eydBPjsrx"
   },
   "outputs": [],
   "source": [
    "wav = read_audio(f'{files_dir}/en.wav')\n",
    "# get speech timestamps from full audio file\n",
    "speech_timestamps = get_speech_ts(wav, model,\n",
    "                                  num_steps=4)\n",
    "pprint(speech_timestamps)"
   ]
  },
  {
   "cell_type": "code",
   "execution_count": null,
   "metadata": {
    "id": "OuEobLchjsry"
   },
   "outputs": [],
   "source": [
    "# merge all speech chunks to one audio\n",
    "save_audio('only_speech.wav',\n",
    "           collect_chunks(speech_timestamps, wav), 16000) \n",
    "Audio('only_speech.wav')"
   ]
  },
  {
   "cell_type": "markdown",
   "metadata": {
    "id": "n8plzbJU2Fws"
   },
   "source": [
    "**Experimental Adaptive method, algorithm selects thresholds itself (see readme for more information)**"
   ]
  },
  {
   "cell_type": "code",
   "execution_count": null,
   "metadata": {
    "id": "SQOtu2Vl2Fwt"
   },
   "outputs": [],
   "source": [
    "wav = read_audio(f'{files_dir}/en.wav')\n",
    "# get speech timestamps from full audio file\n",
    "speech_timestamps = get_speech_ts_adaptive(wav, model, step=500, num_samples_per_window=4000)\n",
    "pprint(speech_timestamps)"
   ]
  },
  {
   "cell_type": "code",
   "execution_count": null,
   "metadata": {
    "id": "Lr6zCGXh2Fwt"
   },
   "outputs": [],
   "source": [
    "# merge all speech chunks to one audio\n",
    "save_audio('only_speech.wav',\n",
    "           collect_chunks(speech_timestamps, wav), 16000) \n",
    "Audio('only_speech.wav')"
   ]
  },
  {
   "cell_type": "markdown",
   "metadata": {
    "id": "iDKQbVr8jsry"
   },
   "source": [
    "### Single Audio Stream"
   ]
  },
  {
   "cell_type": "markdown",
   "metadata": {
    "id": "xCM-HrUR2Fwu"
   },
   "source": [
    "**Classic way of getting speech chunks, you may need to select the thresholds yourself**"
   ]
  },
  {
   "cell_type": "code",
   "execution_count": null,
   "metadata": {
    "id": "q-lql_2Wjsry"
   },
   "outputs": [],
   "source": [
    "wav = f'{files_dir}/en.wav'\n",
    "\n",
    "for batch in single_audio_stream(model, wav):\n",
    "    if batch:\n",
    "        print(batch)"
   ]
  },
  {
   "cell_type": "markdown",
   "metadata": {
    "id": "t8TXtnvk2Fwv"
   },
   "source": [
    "**Experimental Adaptive method, algorithm selects thresholds itself (see readme for more information)**"
   ]
  },
  {
   "cell_type": "code",
   "execution_count": null,
   "metadata": {
    "id": "BX3UgwwB2Fwv"
   },
   "outputs": [],
   "source": [
    "wav = f'{files_dir}/en.wav'\n",
    "\n",
    "for batch in single_audio_stream(model, wav, iterator_type='adaptive'):\n",
    "    if batch:\n",
    "        print(batch)"
   ]
  },
  {
   "cell_type": "markdown",
   "metadata": {
    "heading_collapsed": true,
    "id": "KBDVybJCjsrz"
   },
   "source": [
    "### Multiple Audio Streams"
   ]
  },
  {
   "cell_type": "code",
   "execution_count": null,
   "metadata": {
    "hidden": true,
    "id": "BK4tGfWgjsrz"
   },
   "outputs": [],
   "source": [
    "audios_for_stream = glob.glob(f'{files_dir}/*.wav')\n",
    "len(audios_for_stream) # total 4 audios"
   ]
  },
  {
   "cell_type": "code",
   "execution_count": null,
   "metadata": {
    "hidden": true,
    "id": "v1l8sam1jsrz"
   },
   "outputs": [],
   "source": [
    "for batch in state_generator(model, audios_for_stream, audios_in_stream=2): # 2 audio stream\n",
    "    if batch:\n",
    "        pprint(batch)"
   ]
  },
  {
   "cell_type": "markdown",
   "metadata": {
    "heading_collapsed": true,
    "id": "36jY0niD2Fww"
   },
   "source": [
    "## Number detector"
   ]
  },
  {
   "cell_type": "markdown",
   "metadata": {
    "heading_collapsed": true,
    "hidden": true,
    "id": "scd1DlS42Fwx"
   },
   "source": [
    "### Install Dependencies"
   ]
  },
  {
   "cell_type": "code",
   "execution_count": null,
   "metadata": {
    "hidden": true,
    "id": "Kq5gQuYq2Fwx"
   },
   "outputs": [],
   "source": [
    "#@title Install and Import Dependencies\n",
    "\n",
    "# this assumes that you have a relevant version of PyTorch installed\n",
    "!pip install -q torchaudio soundfile\n",
    "\n",
    "import glob\n",
    "import torch\n",
    "torch.set_num_threads(1)\n",
    "\n",
    "from IPython.display import Audio\n",
    "from pprint import pprint\n",
    "\n",
    "model, utils = torch.hub.load(repo_or_dir='snakers4/silero-vad',\n",
    "                              model='silero_number_detector',\n",
    "                              force_reload=True)\n",
    "\n",
    "(get_number_ts,\n",
    " save_audio,\n",
    " read_audio,\n",
    " collect_chunks,\n",
    " drop_chunks) = utils\n",
    "\n",
    "files_dir = torch.hub.get_dir() + '/snakers4_silero-vad_master/files'"
   ]
  },
  {
   "cell_type": "markdown",
   "metadata": {
    "heading_collapsed": true,
    "hidden": true,
    "id": "qhPa30ij2Fwy"
   },
   "source": [
    "### Full audio"
   ]
  },
  {
   "cell_type": "code",
   "execution_count": null,
   "metadata": {
    "hidden": true,
    "id": "EXpau6xq2Fwy"
   },
   "outputs": [],
   "source": [
    "wav = read_audio(f'{files_dir}/en_num.wav')\n",
    "# get number timestamps from full audio file\n",
    "number_timestamps = get_number_ts(wav, model)\n",
    "pprint(number_timestamps)"
   ]
  },
  {
   "cell_type": "code",
   "execution_count": null,
   "metadata": {
    "hidden": true,
    "id": "u-KfXRhZ2Fwy"
   },
   "outputs": [],
   "source": [
    "sample_rate = 16000\n",
    "# convert ms in timestamps to samples\n",
    "for timestamp in number_timestamps:\n",
    "    timestamp['start'] = int(timestamp['start'] * sample_rate / 1000)\n",
    "    timestamp['end'] = int(timestamp['end'] * sample_rate / 1000)"
   ]
  },
  {
   "cell_type": "code",
   "execution_count": null,
   "metadata": {
    "hidden": true,
    "id": "iwYEC4aZ2Fwy"
   },
   "outputs": [],
   "source": [
    "# merge all number chunks to one audio\n",
    "save_audio('only_numbers.wav',\n",
    "           collect_chunks(number_timestamps, wav), sample_rate) \n",
    "Audio('only_numbers.wav')"
   ]
  },
  {
   "cell_type": "code",
   "execution_count": null,
   "metadata": {
    "hidden": true,
    "id": "fHaYejX12Fwy"
   },
   "outputs": [],
   "source": [
    "# drop all number chunks from audio\n",
    "save_audio('no_numbers.wav',\n",
    "           drop_chunks(number_timestamps, wav), sample_rate) \n",
    "Audio('no_numbers.wav')"
   ]
  },
  {
   "cell_type": "markdown",
   "metadata": {
    "heading_collapsed": true,
    "id": "PnKtJKbq2Fwz"
   },
   "source": [
    "## Language detector"
   ]
  },
  {
   "cell_type": "markdown",
   "metadata": {
    "heading_collapsed": true,
    "hidden": true,
    "id": "F5cAmMbP2Fwz"
   },
   "source": [
    "### Install Dependencies"
   ]
  },
  {
   "cell_type": "code",
   "execution_count": null,
   "metadata": {
    "hidden": true,
    "id": "Zu9D0t6n2Fwz"
   },
   "outputs": [],
   "source": [
    "#@title Install and Import Dependencies\n",
    "\n",
    "# this assumes that you have a relevant version of PyTorch installed\n",
    "!pip install -q torchaudio soundfile\n",
    "\n",
    "import glob\n",
    "import torch\n",
    "torch.set_num_threads(1)\n",
    "\n",
    "from IPython.display import Audio\n",
    "from pprint import pprint\n",
    "\n",
    "model, utils = torch.hub.load(repo_or_dir='snakers4/silero-vad',\n",
    "                              model='silero_lang_detector',\n",
    "                              force_reload=True)\n",
    "\n",
    "(get_language,\n",
    " read_audio) = utils\n",
    "\n",
    "files_dir = torch.hub.get_dir() + '/snakers4_silero-vad_master/files'"
   ]
  },
  {
   "cell_type": "markdown",
   "metadata": {
    "heading_collapsed": true,
    "hidden": true,
    "id": "iC696eMX2Fwz"
   },
   "source": [
    "### Full audio"
   ]
  },
  {
   "cell_type": "code",
   "execution_count": null,
   "metadata": {
    "hidden": true,
    "id": "c8UYnYBF2Fw0"
   },
   "outputs": [],
   "source": [
    "wav = read_audio(f'{files_dir}/en.wav')\n",
    "lang = get_language(wav, model)\n",
    "print(lang)"
   ]
  },
  {
   "cell_type": "markdown",
   "metadata": {
    "id": "57avIBd6jsrz"
   },
   "source": [
    "# ONNX Example"
   ]
  },
  {
   "cell_type": "markdown",
   "metadata": {
    "id": "hEhnfORV2Fw0"
   },
   "source": [
    "## VAD"
   ]
  },
  {
   "cell_type": "markdown",
   "metadata": {
    "heading_collapsed": true,
    "id": "bL4kn4KJrlyL"
   },
   "source": [
    "### Install Dependencies"
   ]
  },
  {
   "cell_type": "code",
   "execution_count": null,
   "metadata": {
    "cellView": "form",
    "hidden": true,
    "id": "Q4QIfSpprnkI"
   },
   "outputs": [],
   "source": [
    "#@title Install and Import Dependencies\n",
    "\n",
    "# this assumes that you have a relevant version of PyTorch installed\n",
    "!pip install -q torchaudio soundfile onnxruntime\n",
    "\n",
    "import glob\n",
    "import onnxruntime\n",
    "from pprint import pprint\n",
    "\n",
    "from IPython.display import Audio\n",
    "\n",
    "_, utils = torch.hub.load(repo_or_dir='snakers4/silero-vad',\n",
    "                              model='silero_vad',\n",
    "                              force_reload=True)\n",
    "\n",
    "(get_speech_ts,\n",
    " get_speech_ts_adaptive,\n",
    " save_audio,\n",
    " read_audio,\n",
    " state_generator,\n",
    " single_audio_stream,\n",
    " collect_speeches) = utils\n",
    "\n",
    "files_dir = torch.hub.get_dir() + '/snakers4_silero-vad_master/files'\n",
    "\n",
    "def init_onnx_model(model_path: str):\n",
    "    return onnxruntime.InferenceSession(model_path)\n",
    "\n",
    "def validate_onnx(model, inputs):\n",
    "    with torch.no_grad():\n",
    "        ort_inputs = {'input': inputs.cpu().numpy()}\n",
    "        outs = model.run(None, ort_inputs)\n",
    "        outs = [torch.Tensor(x) for x in outs]\n",
    "    return outs[0]"
   ]
  },
  {
   "cell_type": "markdown",
   "metadata": {
    "id": "5JHErdB7jsr0"
   },
   "source": [
    "### Full Audio"
   ]
  },
  {
   "cell_type": "markdown",
   "metadata": {
    "id": "TNEtK5zi2Fw2"
   },
   "source": [
    "**Classic way of getting speech chunks, you may need to select the thresholds yourself**"
   ]
  },
  {
   "cell_type": "code",
   "execution_count": null,
   "metadata": {
    "id": "krnGoA6Kjsr0"
   },
   "outputs": [],
   "source": [
    "model = init_onnx_model(f'{files_dir}/model.onnx')\n",
    "wav = read_audio(f'{files_dir}/en.wav')\n",
    "\n",
    "# get speech timestamps from full audio file\n",
    "speech_timestamps = get_speech_ts(wav, model, num_steps=4, run_function=validate_onnx) \n",
    "pprint(speech_timestamps)"
   ]
  },
  {
   "cell_type": "code",
   "execution_count": null,
   "metadata": {
    "id": "B176Lzfnjsr1"
   },
   "outputs": [],
   "source": [
    "# merge all speech chunks to one audio\n",
    "save_audio('only_speech.wav', collect_chunks(speech_timestamps, wav), 16000)\n",
    "Audio('only_speech.wav')"
   ]
  },
  {
   "cell_type": "markdown",
   "metadata": {
    "id": "21RE8KEC2Fw2"
   },
   "source": [
    "**Experimental Adaptive method, algorithm selects thresholds itself (see readme for more information)**"
   ]
  },
  {
   "cell_type": "code",
   "execution_count": null,
   "metadata": {
    "id": "uIVs56rb2Fw2"
   },
   "outputs": [],
   "source": [
    "model = init_onnx_model(f'{files_dir}/model.onnx')\n",
    "wav = read_audio(f'{files_dir}/en.wav')\n",
    "\n",
    "# get speech timestamps from full audio file\n",
    "speech_timestamps = get_speech_ts_adaptive(wav, model, run_function=validate_onnx) \n",
    "pprint(speech_timestamps)"
   ]
  },
  {
   "cell_type": "code",
   "execution_count": null,
   "metadata": {
    "id": "cox6oumC2Fw3"
   },
   "outputs": [],
   "source": [
    "# merge all speech chunks to one audio\n",
    "save_audio('only_speech.wav', collect_chunks(speech_timestamps, wav), 16000)\n",
    "Audio('only_speech.wav')"
   ]
  },
  {
   "cell_type": "markdown",
   "metadata": {
    "id": "Rio9W50gjsr1"
   },
   "source": [
    "### Single Audio Stream"
   ]
  },
  {
   "cell_type": "markdown",
   "metadata": {
    "id": "i8EZwtaA2Fw3"
   },
   "source": [
    "**Classic way of getting speech chunks, you may need to select the thresholds yourself**"
   ]
  },
  {
   "cell_type": "code",
   "execution_count": null,
   "metadata": {
    "id": "IPkl8Yy1jsr1"
   },
   "outputs": [],
   "source": [
    "model = init_onnx_model(f'{files_dir}/model.onnx')\n",
    "wav = f'{files_dir}/en.wav'"
   ]
  },
  {
   "cell_type": "code",
   "execution_count": null,
   "metadata": {
    "id": "NC6Jim0hjsr1"
   },
   "outputs": [],
   "source": [
    "for batch in single_audio_stream(model, wav, run_function=validate_onnx):\n",
    "    if batch:\n",
    "        pprint(batch)"
   ]
  },
  {
   "cell_type": "markdown",
   "metadata": {
    "id": "0pSKslpz2Fw3"
   },
   "source": [
    "**Experimental Adaptive method, algorithm selects thresholds itself (see readme for more information)**"
   ]
  },
  {
   "cell_type": "code",
   "execution_count": null,
   "metadata": {
    "id": "RZwc-Khk2Fw4"
   },
   "outputs": [],
   "source": [
    "model = init_onnx_model(f'{files_dir}/model.onnx')\n",
    "wav = f'{files_dir}/en.wav'"
   ]
  },
  {
   "cell_type": "code",
   "execution_count": null,
   "metadata": {
    "id": "Z4lzFPs02Fw4"
   },
   "outputs": [],
   "source": [
    "for batch in single_audio_stream(model, wav, iterator_type='adaptive', run_function=validate_onnx):\n",
    "    if batch:\n",
    "        pprint(batch)"
   ]
  },
  {
   "cell_type": "markdown",
   "metadata": {
    "heading_collapsed": true,
    "id": "WNZ42u0ajsr1"
   },
   "source": [
    "### Multiple Audio Streams"
   ]
  },
  {
   "cell_type": "code",
   "execution_count": null,
   "metadata": {
    "hidden": true,
    "id": "XjhGQGppjsr1"
   },
   "outputs": [],
   "source": [
    "model = init_onnx_model(f'{files_dir}/model.onnx')\n",
    "audios_for_stream = glob.glob(f'{files_dir}/*.wav')\n",
    "pprint(len(audios_for_stream)) # total 4 audios"
   ]
  },
  {
   "cell_type": "code",
   "execution_count": null,
   "metadata": {
    "hidden": true,
    "id": "QI7-arlqjsr2"
   },
   "outputs": [],
   "source": [
    "for batch in state_generator(model, audios_for_stream, audios_in_stream=2, run_function=validate_onnx): # 2 audio stream\n",
    "    if batch:\n",
    "        pprint(batch)"
   ]
  },
  {
   "cell_type": "markdown",
   "metadata": {
    "heading_collapsed": true,
    "id": "7QMvUvpg2Fw4"
   },
   "source": [
    "## Number detector"
   ]
  },
  {
   "cell_type": "markdown",
   "metadata": {
    "heading_collapsed": true,
    "hidden": true,
    "id": "tBPDkpHr2Fw4"
   },
   "source": [
    "### Install Dependencies"
   ]
  },
  {
   "cell_type": "code",
   "execution_count": null,
   "metadata": {
    "cellView": "form",
    "hidden": true,
    "id": "PdjGd56R2Fw5"
   },
   "outputs": [],
   "source": [
    "#@title Install and Import Dependencies\n",
    "\n",
    "# this assumes that you have a relevant version of PyTorch installed\n",
    "!pip install -q torchaudio soundfile onnxruntime\n",
    "\n",
    "import glob\n",
    "import torch\n",
    "import onnxruntime\n",
    "from pprint import pprint\n",
    "\n",
    "from IPython.display import Audio\n",
    "\n",
    "_, utils = torch.hub.load(repo_or_dir='snakers4/silero-vad',\n",
    "                              model='silero_number_detector',\n",
    "                              force_reload=True)\n",
    "\n",
    "(get_number_ts,\n",
    " save_audio,\n",
    " read_audio,\n",
    " collect_chunks,\n",
    " drop_chunks) = utils\n",
    "\n",
    "files_dir = torch.hub.get_dir() + '/snakers4_silero-vad_master/files'\n",
    "\n",
    "def init_onnx_model(model_path: str):\n",
    "    return onnxruntime.InferenceSession(model_path)\n",
    "\n",
    "def validate_onnx(model, inputs):\n",
    "    with torch.no_grad():\n",
    "        ort_inputs = {'input': inputs.cpu().numpy()}\n",
    "        outs = model.run(None, ort_inputs)\n",
    "        outs = [torch.Tensor(x) for x in outs]\n",
    "    return outs"
   ]
  },
  {
   "cell_type": "markdown",
   "metadata": {
    "heading_collapsed": true,
    "hidden": true,
    "id": "I9QWSFZh2Fw5"
   },
   "source": [
    "### Full Audio"
   ]
  },
  {
   "cell_type": "code",
   "execution_count": null,
   "metadata": {
    "hidden": true,
    "id": "_r6QZiwu2Fw5"
   },
   "outputs": [],
   "source": [
    "model = init_onnx_model(f'{files_dir}/number_detector.onnx')\n",
    "wav = read_audio(f'{files_dir}/en_num.wav')\n",
    "\n",
    "# get number timestamps from full audio file\n",
    "number_timestamps = get_number_ts(wav, model, run_function=validate_onnx)\n",
    "pprint(number_timestamps)"
   ]
  },
  {
   "cell_type": "code",
   "execution_count": null,
   "metadata": {
    "hidden": true,
    "id": "FN4aDwLV2Fw5"
   },
   "outputs": [],
   "source": [
    "sample_rate = 16000\n",
    "# convert ms in timestamps to samples\n",
    "for timestamp in number_timestamps:\n",
    "    timestamp['start'] = int(timestamp['start'] * sample_rate / 1000)\n",
    "    timestamp['end'] = int(timestamp['end'] * sample_rate / 1000)"
   ]
  },
  {
   "cell_type": "code",
   "execution_count": null,
   "metadata": {
    "hidden": true,
    "id": "JnvS6WTK2Fw5"
   },
   "outputs": [],
   "source": [
    "# merge all number chunks to one audio\n",
    "save_audio('only_numbers.wav',\n",
    "           collect_chunks(number_timestamps, wav), 16000) \n",
    "Audio('only_numbers.wav')"
   ]
  },
  {
   "cell_type": "code",
   "execution_count": null,
   "metadata": {
    "hidden": true,
    "id": "yUxOcOFG2Fw6"
   },
   "outputs": [],
   "source": [
    "# drop all number chunks from audio\n",
    "save_audio('no_numbers.wav',\n",
    "           drop_chunks(number_timestamps, wav), 16000) \n",
    "Audio('no_numbers.wav')"
   ]
  },
  {
   "cell_type": "markdown",
   "metadata": {
    "heading_collapsed": true,
    "id": "SR8Bgcd52Fw6"
   },
   "source": [
    "## Language detector"
   ]
  },
  {
   "cell_type": "markdown",
   "metadata": {
    "heading_collapsed": true,
    "hidden": true,
    "id": "PBnXPtKo2Fw6"
   },
   "source": [
    "### Install Dependencies"
   ]
  },
  {
   "cell_type": "code",
   "execution_count": null,
   "metadata": {
    "cellView": "form",
    "hidden": true,
    "id": "iNkDWJ3H2Fw6"
   },
   "outputs": [],
   "source": [
    "#@title Install and Import Dependencies\n",
    "\n",
    "# this assumes that you have a relevant version of PyTorch installed\n",
    "!pip install -q torchaudio soundfile onnxruntime\n",
    "\n",
    "import glob\n",
    "import torch\n",
    "import onnxruntime\n",
    "from pprint import pprint\n",
    "\n",
    "from IPython.display import Audio\n",
    "\n",
    "_, utils = torch.hub.load(repo_or_dir='snakers4/silero-vad',\n",
    "                              model='silero_lang_detector',\n",
    "                              force_reload=True)\n",
    "\n",
    "(get_language,\n",
    " read_audio) = utils\n",
    "\n",
    "files_dir = torch.hub.get_dir() + '/snakers4_silero-vad_master/files'\n",
    "\n",
    "def init_onnx_model(model_path: str):\n",
    "    return onnxruntime.InferenceSession(model_path)\n",
    "\n",
    "def validate_onnx(model, inputs):\n",
    "    with torch.no_grad():\n",
    "        ort_inputs = {'input': inputs.cpu().numpy()}\n",
    "        outs = model.run(None, ort_inputs)\n",
    "        outs = [torch.Tensor(x) for x in outs]\n",
    "    return outs"
   ]
  },
  {
   "cell_type": "markdown",
   "metadata": {
    "hidden": true,
    "id": "G8N8oP4q2Fw6"
   },
   "source": [
    "### Full Audio"
   ]
  },
  {
   "cell_type": "code",
   "execution_count": null,
   "metadata": {
    "hidden": true,
    "id": "WHXnh9IV2Fw6"
   },
   "outputs": [],
   "source": [
    "model = init_onnx_model(f'{files_dir}/number_detector.onnx')\n",
    "wav = read_audio(f'{files_dir}/en.wav')\n",
    "\n",
    "lang = get_language(wav, model, run_function=validate_onnx)\n",
    "print(lang)"
   ]
  }
 ],
 "metadata": {
  "colab": {
   "name": "silero-vad.ipynb",
   "provenance": []
  },
  "kernelspec": {
   "display_name": "Python 3",
   "language": "python",
   "name": "python3"
  },
  "language_info": {
   "codemirror_mode": {
    "name": "ipython",
    "version": 3
   },
   "file_extension": ".py",
   "mimetype": "text/x-python",
   "name": "python",
   "nbconvert_exporter": "python",
   "pygments_lexer": "ipython3",
   "version": "3.8.8"
  },
  "toc": {
   "base_numbering": 1,
   "nav_menu": {},
   "number_sections": true,
   "sideBar": true,
   "skip_h1_title": false,
   "title_cell": "Table of Contents",
   "title_sidebar": "Contents",
   "toc_cell": false,
   "toc_position": {},
   "toc_section_display": true,
   "toc_window_display": false
  }
 },
 "nbformat": 4,
 "nbformat_minor": 0
}
